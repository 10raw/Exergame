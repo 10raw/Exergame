{
  "cells": [
    {
      "cell_type": "code",
      "execution_count": null,
      "metadata": {
        "id": "uYjVX9bSa_9x"
      },
      "outputs": [],
      "source": [
        "!pip install tensorflow opencv-contrib-python youtube-dl moviepy pydot"
      ]
    },
    {
      "cell_type": "code",
      "execution_count": null,
      "metadata": {
        "colab": {
          "base_uri": "https://localhost:8080/"
        },
        "id": "ozDjwKw-RwnN",
        "outputId": "6434b3d0-5482-433c-9623-7ee1880f5b0e"
      },
      "outputs": [
        {
          "name": "stdout",
          "output_type": "stream",
          "text": [
            "Imageio: 'ffmpeg-linux64-v3.3.1' was not found on your computer; downloading it now.\n",
            "Try 1. Download from https://github.com/imageio/imageio-binaries/raw/master/ffmpeg/ffmpeg-linux64-v3.3.1 (43.8 MB)\n",
            "Downloading: 8192/45929032 bytes (0.0%)\b\b\b\b\b\b\b\b\b\b\b\b\b\b\b\b\b\b\b\b\b\b\b\b\b\b1810432/45929032 bytes (3.9%)\b\b\b\b\b\b\b\b\b\b\b\b\b\b\b\b\b\b\b\b\b\b\b\b\b\b\b\b\b4571136/45929032 bytes (10.0%)\b\b\b\b\b\b\b\b\b\b\b\b\b\b\b\b\b\b\b\b\b\b\b\b\b\b\b\b\b\b6684672/45929032 bytes (14.6%)\b\b\b\b\b\b\b\b\b\b\b\b\b\b\b\b\b\b\b\b\b\b\b\b\b\b\b\b\b\b8937472/45929032 bytes (19.5%)\b\b\b\b\b\b\b\b\b\b\b\b\b\b\b\b\b\b\b\b\b\b\b\b\b\b\b\b\b\b10739712/45929032 bytes (23.4%)\b\b\b\b\b\b\b\b\b\b\b\b\b\b\b\b\b\b\b\b\b\b\b\b\b\b\b\b\b\b\b12541952/45929032 bytes (27.3%)\b\b\b\b\b\b\b\b\b\b\b\b\b\b\b\b\b\b\b\b\b\b\b\b\b\b\b\b\b\b\b14000128/45929032 bytes (30.5%)\b\b\b\b\b\b\b\b\b\b\b\b\b\b\b\b\b\b\b\b\b\b\b\b\b\b\b\b\b\b\b15589376/45929032 bytes (33.9%)\b\b\b\b\b\b\b\b\b\b\b\b\b\b\b\b\b\b\b\b\b\b\b\b\b\b\b\b\b\b\b18022400/45929032 bytes (39.2%)\b\b\b\b\b\b\b\b\b\b\b\b\b\b\b\b\b\b\b\b\b\b\b\b\b\b\b\b\b\b\b19841024/45929032 bytes (43.2%)\b\b\b\b\b\b\b\b\b\b\b\b\b\b\b\b\b\b\b\b\b\b\b\b\b\b\b\b\b\b\b22478848/45929032 bytes (48.9%)\b\b\b\b\b\b\b\b\b\b\b\b\b\b\b\b\b\b\b\b\b\b\b\b\b\b\b\b\b\b\b24715264/45929032 bytes (53.8%)\b\b\b\b\b\b\b\b\b\b\b\b\b\b\b\b\b\b\b\b\b\b\b\b\b\b\b\b\b\b\b26730496/45929032 bytes (58.2%)\b\b\b\b\b\b\b\b\b\b\b\b\b\b\b\b\b\b\b\b\b\b\b\b\b\b\b\b\b\b\b29474816/45929032 bytes (64.2%)\b\b\b\b\b\b\b\b\b\b\b\b\b\b\b\b\b\b\b\b\b\b\b\b\b\b\b\b\b\b\b31629312/45929032 bytes (68.9%)\b\b\b\b\b\b\b\b\b\b\b\b\b\b\b\b\b\b\b\b\b\b\b\b\b\b\b\b\b\b\b34054144/45929032 bytes (74.1%)\b\b\b\b\b\b\b\b\b\b\b\b\b\b\b\b\b\b\b\b\b\b\b\b\b\b\b\b\b\b\b36478976/45929032 bytes (79.4%)\b\b\b\b\b\b\b\b\b\b\b\b\b\b\b\b\b\b\b\b\b\b\b\b\b\b\b\b\b\b\b38297600/45929032 bytes (83.4%)\b\b\b\b\b\b\b\b\b\b\b\b\b\b\b\b\b\b\b\b\b\b\b\b\b\b\b\b\b\b\b40861696/45929032 bytes (89.0%)\b\b\b\b\b\b\b\b\b\b\b\b\b\b\b\b\b\b\b\b\b\b\b\b\b\b\b\b\b\b\b43327488/45929032 bytes (94.3%)\b\b\b\b\b\b\b\b\b\b\b\b\b\b\b\b\b\b\b\b\b\b\b\b\b\b\b\b\b\b\b45929032/45929032 bytes (100.0%)\n",
            "  Done\n",
            "File saved as /root/.imageio/ffmpeg/ffmpeg-linux64-v3.3.1.\n"
          ]
        }
      ],
      "source": [
        "import os\n",
        "import cv2\n",
        "import math\n",
        "import random\n",
        "import numpy as np\n",
        "import datetime as dt\n",
        "import tensorflow as tf\n",
        "from collections import deque\n",
        "import matplotlib.pyplot as plt\n",
        "\n",
        "from moviepy.editor import *\n",
        "%matplotlib inline\n",
        "\n",
        "from sklearn.model_selection import train_test_split\n",
        "\n",
        "from tensorflow.keras.layers import *\n",
        "from tensorflow.keras.models import Sequential\n",
        "from tensorflow.keras.utils import to_categorical\n",
        "from tensorflow.keras.callbacks import EarlyStopping\n",
        "from tensorflow.keras.utils import plot_model"
      ]
    },
    {
      "cell_type": "code",
      "execution_count": null,
      "metadata": {
        "id": "gOVbyfHKbvVE"
      },
      "outputs": [],
      "source": [
        "from sklearn.model_selection import train_test_split\n",
        "from tensorflow.keras.layers import *\n",
        "from tensorflow.keras.models import Sequential\n",
        "from tensorflow.keras.utils import to_categorical"
      ]
    },
    {
      "cell_type": "code",
      "execution_count": null,
      "metadata": {
        "id": "AEEVl40jbbHK"
      },
      "outputs": [],
      "source": [
        "seed_constant = 27\n",
        "np.random.seed(seed_constant)\n",
        "random.seed(seed_constant)\n",
        "tf.random.set_seed(seed_constant)"
      ]
    },
    {
      "cell_type": "code",
      "execution_count": null,
      "metadata": {
        "id": "ZNEVPcxWvXqF"
      },
      "outputs": [],
      "source": [
        "!pip install flask-ngrok"
      ]
    },
    {
      "cell_type": "code",
      "execution_count": null,
      "metadata": {
        "colab": {
          "base_uri": "https://localhost:8080/"
        },
        "id": "Gt92ZWmXhUOo",
        "outputId": "1b19ca83-7e62-485b-a751-19a4c662a34d"
      },
      "outputs": [
        {
          "name": "stdout",
          "output_type": "stream",
          "text": [
            " * Serving Flask app \"__main__\" (lazy loading)\n",
            " * Environment: production\n",
            "\u001b[31m   WARNING: This is a development server. Do not use it in a production deployment.\u001b[0m\n",
            "\u001b[2m   Use a production WSGI server instead.\u001b[0m\n",
            " * Debug mode: off\n"
          ]
        },
        {
          "name": "stderr",
          "output_type": "stream",
          "text": [
            " * Running on http://127.0.0.1:5000/ (Press CTRL+C to quit)\n"
          ]
        },
        {
          "name": "stdout",
          "output_type": "stream",
          "text": [
            " * Running on http://72b7-35-245-201-172.ngrok.io\n",
            " * Traffic stats available on http://127.0.0.1:4040\n"
          ]
        }
      ],
      "source": [
        "from flask import Flask,request\n",
        "from flask_ngrok import run_with_ngrok\n",
        "app = Flask(__name__)\n",
        "run_with_ngrok(app)   \n",
        "  \n",
        "@app.route(\"/\")\n",
        "def home():\n",
        "    return \"status: working\"\n",
        "@app.route(\"/pulse/\")\n",
        "def sendsensorreadings():\n",
        "    print(request.args.get.sensor)\n",
        "    print(\"hello\")\n",
        "    return \"status :ok\"\n",
        "    \n",
        "app.run()"
      ]
    },
    {
      "cell_type": "code",
      "execution_count": null,
      "metadata": {
        "colab": {
          "base_uri": "https://localhost:8080/"
        },
        "id": "mSfspUZs8RGU",
        "outputId": "8a664bc8-4d11-467e-b184-40a84988914e"
      },
      "outputs": [
        {
          "name": "stdout",
          "output_type": "stream",
          "text": [
            "/content\n"
          ]
        }
      ],
      "source": [
        "!pwd"
      ]
    },
    {
      "cell_type": "code",
      "execution_count": null,
      "metadata": {
        "id": "atoiFTd90boy"
      },
      "outputs": [],
      "source": [
        "from tensorflow.keras.callbacks import EarlyStopping\n",
        "from tensorflow.keras.utils import plot_model"
      ]
    },
    {
      "cell_type": "code",
      "execution_count": null,
      "metadata": {
        "id": "gihOg_xTng5A"
      },
      "outputs": [],
      "source": [
        "IMAGE_HEIGHT , IMAGE_WIDTH = 128, 128\n",
        "SEQUENCE_LENGTH = 25\n",
        "\n",
        "DATASET_DIR = \"/content/\"\n",
        "\n",
        "CLASSES_LIST = [\"stand\", \"jump\"]"
      ]
    },
    {
      "cell_type": "code",
      "execution_count": null,
      "metadata": {
        "id": "A94oPYWqCxy4"
      },
      "outputs": [],
      "source": [
        "label1=['standing']*37 +['jumping']*20"
      ]
    },
    {
      "cell_type": "code",
      "execution_count": null,
      "metadata": {
        "id": "5gtwrDRiC8Oy"
      },
      "outputs": [],
      "source": [
        "def frames_extraction(video_path):\n",
        "   \n",
        "    framesL = []\n",
        "    \n",
        "    video_reader = cv2.VideoCapture(video_path)\n",
        "    video_frames_count = int(video_reader.get(cv2.CAP_PROP_FRAME_COUNT))\n",
        "\n",
        "    skip_frames_window = max(int(video_frames_count/SEQUENCE_LENGTH), 1)\n",
        "\n",
        "    for frame_counter in range(SEQUENCE_LENGTH):\n",
        "        video_reader.set(cv2.CAP_PROP_POS_FRAMES, frame_counter * skip_frames_window)\n",
        "        success, frame = video_reader.read() \n",
        "\n",
        "        if not success:\n",
        "          print(\"unsucessful\")\n",
        "          break\n",
        "\n",
        "        resized_frame = cv2.resize(frame, (IMAGE_HEIGHT, IMAGE_WIDTH))\n",
        "        normalized_frame = resized_frame / 255\n",
        "        framesL.append(normalized_frame)\n",
        "\n",
        "        video_reader.release()\n",
        "\n",
        "    return framesL"
      ]
    },
    {
      "cell_type": "code",
      "execution_count": null,
      "metadata": {
        "id": "IzJcy7z2ELiB"
      },
      "outputs": [],
      "source": [
        "def create_dataset():\n",
        "    features = []\n",
        "    labels = []\n",
        "    video_files_paths = []\n",
        "    \n",
        "    for class_index, class_name in enumerate(CLASSES_LIST):\n",
        "        print(f'Extracting Data of Class: {class_name}')\n",
        "        files_list = os.listdir(os.path.join(DATASET_DIR, class_name))\n",
        "        \n",
        "        for file_name in files_list:\n",
        "            print(file_name)\n",
        "            video_file_path = os.path.join(DATASET_DIR, class_name, file_name)\n",
        "\n",
        "            frames = frames_extraction(video_file_path)\n",
        "\n",
        "            if len(frames) == SEQUENCE_LENGTH:\n",
        "                features.append(frames)\n",
        "                labels.append(class_index)\n",
        "                video_files_paths.append(video_file_path)\n",
        "\n",
        "    features = np.asarray(features)\n",
        "    labels = np.array(labels)  \n",
        "    \n",
        "    return features, labels, video_files_paths"
      ]
    },
    {
      "cell_type": "code",
      "execution_count": null,
      "metadata": {
        "colab": {
          "base_uri": "https://localhost:8080/"
        },
        "id": "I0bA0Hreg2D4",
        "outputId": "79f8053c-0f8a-4652-b12a-65cfeca00d7c"
      },
      "outputs": [
        {
          "name": "stdout",
          "output_type": "stream",
          "text": [
            "Extracting Data of Class: stand\n",
            "29.mp4\n",
            "2.mp4\n",
            "WhatsApp Video 2022-06-17 at 8.08.30 PM.mp4\n",
            "WhatsApp Video 2022-06-17 at 8.14.40 PM.mp4\n",
            "InShot_20220617_214918288.mp4\n",
            "WhatsApp Video 2022-06-17 at 8.13.18 PM.mp4\n",
            "11.mp4\n",
            "3.mp4\n",
            "13.mp4\n",
            "VID_20220617221625.mp4\n",
            "37.mp4\n",
            "17.mp4\n",
            "9.mp4\n",
            "12.mp4\n",
            "19.mp4\n",
            "20.mp4\n",
            "36.mp4\n",
            "Extracting Data of Class: jump\n",
            "WhatsApp Video 2022-06-17 at 8.12.34 PM.mp4\n",
            "c.mp4\n",
            "InShot_20220617_214604422.mp4\n",
            "WhatsApp Video 2022-06-17 at 8.14.09 PM.mp4\n",
            "d.mp4\n",
            "VID_20220617221713.mp4\n",
            "b.mp4\n",
            "44.mp4\n",
            "a.mp4\n",
            ".ipynb_checkpoints\n",
            "52.mp4\n",
            "45.mp4\n",
            "57.mp4\n",
            "51.mp4\n",
            "55.mp4\n",
            "54.mp4\n"
          ]
        }
      ],
      "source": [
        "features, labels, video_files_paths = create_dataset()"
      ]
    },
    {
      "cell_type": "code",
      "execution_count": null,
      "metadata": {
        "colab": {
          "base_uri": "https://localhost:8080/"
        },
        "id": "XVxQExgVVSkS",
        "outputId": "ba14ffd2-f8fd-43fa-9418-674dfd689bb9"
      },
      "outputs": [
        {
          "name": "stdout",
          "output_type": "stream",
          "text": [
            "unsucessful\n"
          ]
        },
        {
          "data": {
            "text/plain": [
              "[array([[[0.99215686, 0.99215686, 0.98431373],\n",
              "         [0.99215686, 0.99215686, 0.98431373],\n",
              "         [0.98823529, 0.99215686, 0.97254902],\n",
              "         ...,\n",
              "         [0.92156863, 0.92156863, 0.91372549],\n",
              "         [0.91764706, 0.91764706, 0.90980392],\n",
              "         [0.93333333, 0.9254902 , 0.90980392]],\n",
              " \n",
              "        [[0.97254902, 0.97254902, 0.96470588],\n",
              "         [0.97254902, 0.97254902, 0.96470588],\n",
              "         [0.97254902, 0.97647059, 0.95686275],\n",
              "         ...,\n",
              "         [0.90196078, 0.90196078, 0.89411765],\n",
              "         [0.90196078, 0.90196078, 0.89411765],\n",
              "         [0.92156863, 0.9254902 , 0.90588235]],\n",
              " \n",
              "        [[0.96470588, 0.96470588, 0.95686275],\n",
              "         [0.97647059, 0.97647059, 0.96862745],\n",
              "         [0.96470588, 0.96470588, 0.95686275],\n",
              "         ...,\n",
              "         [0.90980392, 0.90980392, 0.90196078],\n",
              "         [0.90196078, 0.90196078, 0.89411765],\n",
              "         [0.92941176, 0.93333333, 0.91372549]],\n",
              " \n",
              "        ...,\n",
              " \n",
              "        [[0.63137255, 0.67843137, 0.7254902 ],\n",
              "         [0.61568627, 0.6627451 , 0.70980392],\n",
              "         [0.64705882, 0.70588235, 0.74117647],\n",
              "         ...,\n",
              "         [0.6745098 , 0.73333333, 0.76862745],\n",
              "         [0.6627451 , 0.72156863, 0.75686275],\n",
              "         [0.68627451, 0.74901961, 0.77647059]],\n",
              " \n",
              "        [[0.63921569, 0.68627451, 0.73333333],\n",
              "         [0.65490196, 0.70196078, 0.74901961],\n",
              "         [0.61568627, 0.6745098 , 0.71764706],\n",
              "         ...,\n",
              "         [0.6745098 , 0.7372549 , 0.76470588],\n",
              "         [0.70196078, 0.76470588, 0.79215686],\n",
              "         [0.65098039, 0.71372549, 0.74117647]],\n",
              " \n",
              "        [[0.63921569, 0.68627451, 0.73333333],\n",
              "         [0.61960784, 0.66666667, 0.71372549],\n",
              "         [0.63137255, 0.67843137, 0.71764706],\n",
              "         ...,\n",
              "         [0.69019608, 0.75686275, 0.77254902],\n",
              "         [0.67058824, 0.7372549 , 0.75294118],\n",
              "         [0.72156863, 0.76470588, 0.79607843]]])]"
            ]
          },
          "execution_count": 42,
          "metadata": {},
          "output_type": "execute_result"
        }
      ],
      "source": [
        "frames_extraction('/content/stand/10.mp4')"
      ]
    },
    {
      "cell_type": "code",
      "execution_count": null,
      "metadata": {
        "colab": {
          "base_uri": "https://localhost:8080/"
        },
        "id": "_AXtqpYXP9Hj",
        "outputId": "6abb6ebb-92c8-43da-f390-98df0b030142"
      },
      "outputs": [
        {
          "data": {
            "text/plain": [
              "array([], dtype=float64)"
            ]
          },
          "execution_count": 30,
          "metadata": {},
          "output_type": "execute_result"
        }
      ],
      "source": [
        "features"
      ]
    },
    {
      "cell_type": "code",
      "execution_count": null,
      "metadata": {
        "colab": {
          "base_uri": "https://localhost:8080/",
          "height": 363
        },
        "id": "JpXzTEWkg6ZR",
        "outputId": "5269f89f-dac6-4f51-9a0f-18a1432c3c34"
      },
      "outputs": [
        {
          "ename": "ValueError",
          "evalue": "ignored",
          "output_type": "error",
          "traceback": [
            "\u001b[0;31m---------------------------------------------------------------------------\u001b[0m",
            "\u001b[0;31mValueError\u001b[0m                                Traceback (most recent call last)",
            "\u001b[0;32m<ipython-input-29-d82edc4d67fe>\u001b[0m in \u001b[0;36m<module>\u001b[0;34m()\u001b[0m\n\u001b[0;32m----> 1\u001b[0;31m \u001b[0mone_hot_encoded_labels\u001b[0m \u001b[0;34m=\u001b[0m \u001b[0mto_categorical\u001b[0m\u001b[0;34m(\u001b[0m\u001b[0mlabels\u001b[0m\u001b[0;34m)\u001b[0m\u001b[0;34m\u001b[0m\u001b[0;34m\u001b[0m\u001b[0m\n\u001b[0m",
            "\u001b[0;32m/usr/local/lib/python3.7/dist-packages/keras/utils/np_utils.py\u001b[0m in \u001b[0;36mto_categorical\u001b[0;34m(y, num_classes, dtype)\u001b[0m\n\u001b[1;32m     66\u001b[0m   \u001b[0my\u001b[0m \u001b[0;34m=\u001b[0m \u001b[0my\u001b[0m\u001b[0;34m.\u001b[0m\u001b[0mravel\u001b[0m\u001b[0;34m(\u001b[0m\u001b[0;34m)\u001b[0m\u001b[0;34m\u001b[0m\u001b[0;34m\u001b[0m\u001b[0m\n\u001b[1;32m     67\u001b[0m   \u001b[0;32mif\u001b[0m \u001b[0;32mnot\u001b[0m \u001b[0mnum_classes\u001b[0m\u001b[0;34m:\u001b[0m\u001b[0;34m\u001b[0m\u001b[0;34m\u001b[0m\u001b[0m\n\u001b[0;32m---> 68\u001b[0;31m     \u001b[0mnum_classes\u001b[0m \u001b[0;34m=\u001b[0m \u001b[0mnp\u001b[0m\u001b[0;34m.\u001b[0m\u001b[0mmax\u001b[0m\u001b[0;34m(\u001b[0m\u001b[0my\u001b[0m\u001b[0;34m)\u001b[0m \u001b[0;34m+\u001b[0m \u001b[0;36m1\u001b[0m\u001b[0;34m\u001b[0m\u001b[0;34m\u001b[0m\u001b[0m\n\u001b[0m\u001b[1;32m     69\u001b[0m   \u001b[0mn\u001b[0m \u001b[0;34m=\u001b[0m \u001b[0my\u001b[0m\u001b[0;34m.\u001b[0m\u001b[0mshape\u001b[0m\u001b[0;34m[\u001b[0m\u001b[0;36m0\u001b[0m\u001b[0;34m]\u001b[0m\u001b[0;34m\u001b[0m\u001b[0;34m\u001b[0m\u001b[0m\n\u001b[1;32m     70\u001b[0m   \u001b[0mcategorical\u001b[0m \u001b[0;34m=\u001b[0m \u001b[0mnp\u001b[0m\u001b[0;34m.\u001b[0m\u001b[0mzeros\u001b[0m\u001b[0;34m(\u001b[0m\u001b[0;34m(\u001b[0m\u001b[0mn\u001b[0m\u001b[0;34m,\u001b[0m \u001b[0mnum_classes\u001b[0m\u001b[0;34m)\u001b[0m\u001b[0;34m,\u001b[0m \u001b[0mdtype\u001b[0m\u001b[0;34m=\u001b[0m\u001b[0mdtype\u001b[0m\u001b[0;34m)\u001b[0m\u001b[0;34m\u001b[0m\u001b[0;34m\u001b[0m\u001b[0m\n",
            "\u001b[0;32m<__array_function__ internals>\u001b[0m in \u001b[0;36mamax\u001b[0;34m(*args, **kwargs)\u001b[0m\n",
            "\u001b[0;32m/usr/local/lib/python3.7/dist-packages/numpy/core/fromnumeric.py\u001b[0m in \u001b[0;36mamax\u001b[0;34m(a, axis, out, keepdims, initial, where)\u001b[0m\n\u001b[1;32m   2753\u001b[0m     \"\"\"\n\u001b[1;32m   2754\u001b[0m     return _wrapreduction(a, np.maximum, 'max', axis, None, out,\n\u001b[0;32m-> 2755\u001b[0;31m                           keepdims=keepdims, initial=initial, where=where)\n\u001b[0m\u001b[1;32m   2756\u001b[0m \u001b[0;34m\u001b[0m\u001b[0m\n\u001b[1;32m   2757\u001b[0m \u001b[0;34m\u001b[0m\u001b[0m\n",
            "\u001b[0;32m/usr/local/lib/python3.7/dist-packages/numpy/core/fromnumeric.py\u001b[0m in \u001b[0;36m_wrapreduction\u001b[0;34m(obj, ufunc, method, axis, dtype, out, **kwargs)\u001b[0m\n\u001b[1;32m     84\u001b[0m                 \u001b[0;32mreturn\u001b[0m \u001b[0mreduction\u001b[0m\u001b[0;34m(\u001b[0m\u001b[0maxis\u001b[0m\u001b[0;34m=\u001b[0m\u001b[0maxis\u001b[0m\u001b[0;34m,\u001b[0m \u001b[0mout\u001b[0m\u001b[0;34m=\u001b[0m\u001b[0mout\u001b[0m\u001b[0;34m,\u001b[0m \u001b[0;34m**\u001b[0m\u001b[0mpasskwargs\u001b[0m\u001b[0;34m)\u001b[0m\u001b[0;34m\u001b[0m\u001b[0;34m\u001b[0m\u001b[0m\n\u001b[1;32m     85\u001b[0m \u001b[0;34m\u001b[0m\u001b[0m\n\u001b[0;32m---> 86\u001b[0;31m     \u001b[0;32mreturn\u001b[0m \u001b[0mufunc\u001b[0m\u001b[0;34m.\u001b[0m\u001b[0mreduce\u001b[0m\u001b[0;34m(\u001b[0m\u001b[0mobj\u001b[0m\u001b[0;34m,\u001b[0m \u001b[0maxis\u001b[0m\u001b[0;34m,\u001b[0m \u001b[0mdtype\u001b[0m\u001b[0;34m,\u001b[0m \u001b[0mout\u001b[0m\u001b[0;34m,\u001b[0m \u001b[0;34m**\u001b[0m\u001b[0mpasskwargs\u001b[0m\u001b[0;34m)\u001b[0m\u001b[0;34m\u001b[0m\u001b[0;34m\u001b[0m\u001b[0m\n\u001b[0m\u001b[1;32m     87\u001b[0m \u001b[0;34m\u001b[0m\u001b[0m\n\u001b[1;32m     88\u001b[0m \u001b[0;34m\u001b[0m\u001b[0m\n",
            "\u001b[0;31mValueError\u001b[0m: zero-size array to reduction operation maximum which has no identity"
          ]
        }
      ],
      "source": [
        "one_hot_encoded_labels = to_categorical(labels)"
      ]
    },
    {
      "cell_type": "code",
      "execution_count": null,
      "metadata": {
        "id": "hbI-pC6Dg89y"
      },
      "outputs": [],
      "source": [
        "features_train, features_test, labels_train, labels_test = train_test_split(features, one_hot_encoded_labels,\n",
        "                                                                            test_size = 0.25, shuffle = True,\n",
        "\n",
        "                                                                            \n",
        "                                                                            random_state = seed_constant)"
      ]
    },
    {
      "cell_type": "code",
      "execution_count": null,
      "metadata": {
        "id": "DicigTrFhCjB"
      },
      "outputs": [],
      "source": [
        "def create_convlstm_model():\n",
        "   \n",
        "    model = Sequential()\n",
        "\n",
        "    model.add(ConvLSTM2D(filters = 4, kernel_size = (3, 3), activation = 'tanh',data_format = \"channels_last\",\n",
        "                         recurrent_dropout=0.2, return_sequences=True, input_shape = (SEQUENCE_LENGTH,\n",
        "                                                                                      IMAGE_HEIGHT, IMAGE_WIDTH, 3)))\n",
        "    model.add(MaxPooling3D(pool_size=(1, 2, 2), padding='same', data_format='channels_last'))\n",
        "    model.add(TimeDistributed(Dropout(0.2)))\n",
        "    \n",
        "    model.add(ConvLSTM2D(filters = 8, kernel_size = (3, 3), activation = 'tanh', data_format = \"channels_last\",\n",
        "                         recurrent_dropout=0.2, return_sequences=True))\n",
        "    \n",
        "    model.add(MaxPooling3D(pool_size=(1, 2, 2), padding='same', data_format='channels_last'))\n",
        "    model.add(TimeDistributed(Dropout(0.2)))\n",
        "    \n",
        "    model.add(ConvLSTM2D(filters = 14, kernel_size = (3, 3), activation = 'tanh', data_format = \"channels_last\",\n",
        "                         recurrent_dropout=0.2, return_sequences=True))\n",
        "    \n",
        "    model.add(MaxPooling3D(pool_size=(1, 2, 2), padding='same', data_format='channels_last'))\n",
        "    model.add(TimeDistributed(Dropout(0.2)))\n",
        "    \n",
        "    model.add(ConvLSTM2D(filters = 16, kernel_size = (3, 3), activation = 'tanh', data_format = \"channels_last\",\n",
        "                         recurrent_dropout=0.2, return_sequences=True))\n",
        "    \n",
        "    model.add(MaxPooling3D(pool_size=(1, 2, 2), padding='same', data_format='channels_last'))\n",
        "    \n",
        "    #model.add(TimeDistributed(Dropout(0.2)))\n",
        "    \n",
        "    model.add(Flatten()) \n",
        "    \n",
        "    model.add(Dense(len(CLASSES_LIST), activation = \"softmax\"))\n",
        "    \n",
        "    # model.summary()\n",
        "    \n",
        "    return model"
      ]
    },
    {
      "cell_type": "code",
      "execution_count": null,
      "metadata": {
        "colab": {
          "base_uri": "https://localhost:8080/"
        },
        "id": "STIayjdGhEl2",
        "outputId": "51407c42-8ae1-4b84-f074-a9f85f609edf"
      },
      "outputs": [
        {
          "name": "stdout",
          "output_type": "stream",
          "text": [
            "Model: \"sequential\"\n",
            "_________________________________________________________________\n",
            " Layer (type)                Output Shape              Param #   \n",
            "=================================================================\n",
            " conv_lstm2d (ConvLSTM2D)    (None, 25, 126, 126, 4)   1024      \n",
            "                                                                 \n",
            " max_pooling3d (MaxPooling3D  (None, 25, 63, 63, 4)    0         \n",
            " )                                                               \n",
            "                                                                 \n",
            " time_distributed (TimeDistr  (None, 25, 63, 63, 4)    0         \n",
            " ibuted)                                                         \n",
            "                                                                 \n",
            " conv_lstm2d_1 (ConvLSTM2D)  (None, 25, 61, 61, 8)     3488      \n",
            "                                                                 \n",
            " max_pooling3d_1 (MaxPooling  (None, 25, 31, 31, 8)    0         \n",
            " 3D)                                                             \n",
            "                                                                 \n",
            " time_distributed_1 (TimeDis  (None, 25, 31, 31, 8)    0         \n",
            " tributed)                                                       \n",
            "                                                                 \n",
            " conv_lstm2d_2 (ConvLSTM2D)  (None, 25, 29, 29, 14)    11144     \n",
            "                                                                 \n",
            " max_pooling3d_2 (MaxPooling  (None, 25, 15, 15, 14)   0         \n",
            " 3D)                                                             \n",
            "                                                                 \n",
            " time_distributed_2 (TimeDis  (None, 25, 15, 15, 14)   0         \n",
            " tributed)                                                       \n",
            "                                                                 \n",
            " conv_lstm2d_3 (ConvLSTM2D)  (None, 25, 13, 13, 16)    17344     \n",
            "                                                                 \n",
            " max_pooling3d_3 (MaxPooling  (None, 25, 7, 7, 16)     0         \n",
            " 3D)                                                             \n",
            "                                                                 \n",
            " flatten (Flatten)           (None, 19600)             0         \n",
            "                                                                 \n",
            " dense (Dense)               (None, 2)                 39202     \n",
            "                                                                 \n",
            "=================================================================\n",
            "Total params: 72,202\n",
            "Trainable params: 72,202\n",
            "Non-trainable params: 0\n",
            "_________________________________________________________________\n",
            "Model Created Successfully!\n"
          ]
        }
      ],
      "source": [
        "convlstm_model = create_convlstm_model()\n",
        "\n",
        "print(\"Model Created Successfully!\")"
      ]
    },
    {
      "cell_type": "code",
      "execution_count": null,
      "metadata": {
        "colab": {
          "base_uri": "https://localhost:8080/",
          "height": 1000
        },
        "id": "Fey8WQ1DhK8a",
        "outputId": "766de59e-1536-49bc-dafa-40fbe33ba851"
      },
      "outputs": [],
      "source": [
        "plot_model(convlstm_model, to_file = 'convlstm_model_structure_plot.png', show_shapes = True, show_layer_names = True)"
      ]
    },
    {
      "cell_type": "code",
      "execution_count": null,
      "metadata": {
        "colab": {
          "base_uri": "https://localhost:8080/"
        },
        "id": "ZllS_AwFhNFz",
        "outputId": "6bdcf0ed-3cd8-4e36-b9a7-3792efe930f4"
      },
      "outputs": [
        {
          "name": "stdout",
          "output_type": "stream",
          "text": [
            "Epoch 1/50\n",
            "9/9 [==============================] - 97s 9s/step - loss: 0.6629 - accuracy: 0.6061 - val_loss: 0.5176 - val_accuracy: 0.7778\n",
            "Epoch 2/50\n",
            "9/9 [==============================] - 87s 10s/step - loss: 0.7299 - accuracy: 0.6061 - val_loss: 0.7033 - val_accuracy: 0.3333\n",
            "Epoch 3/50\n",
            "9/9 [==============================] - 83s 9s/step - loss: 0.6757 - accuracy: 0.6061 - val_loss: 0.5906 - val_accuracy: 0.7778\n",
            "Epoch 4/50\n",
            "9/9 [==============================] - 83s 9s/step - loss: 0.6389 - accuracy: 0.6061 - val_loss: 0.4772 - val_accuracy: 0.7778\n",
            "Epoch 5/50\n",
            "9/9 [==============================] - 83s 9s/step - loss: 0.6172 - accuracy: 0.6061 - val_loss: 0.3759 - val_accuracy: 0.8889\n",
            "Epoch 6/50\n",
            "9/9 [==============================] - 85s 9s/step - loss: 0.4335 - accuracy: 0.7879 - val_loss: 0.1108 - val_accuracy: 1.0000\n",
            "Epoch 7/50\n",
            "9/9 [==============================] - 83s 9s/step - loss: 0.3522 - accuracy: 0.8485 - val_loss: 0.1928 - val_accuracy: 0.8889\n",
            "Epoch 8/50\n",
            "9/9 [==============================] - 85s 9s/step - loss: 0.3463 - accuracy: 0.8788 - val_loss: 0.2082 - val_accuracy: 0.8889\n",
            "Epoch 9/50\n",
            "9/9 [==============================] - 84s 9s/step - loss: 0.2218 - accuracy: 0.9394 - val_loss: 0.0526 - val_accuracy: 1.0000\n",
            "Epoch 10/50\n",
            "9/9 [==============================] - 86s 10s/step - loss: 0.1111 - accuracy: 0.9697 - val_loss: 0.0171 - val_accuracy: 1.0000\n",
            "Epoch 11/50\n",
            "9/9 [==============================] - 87s 10s/step - loss: 0.0955 - accuracy: 0.9697 - val_loss: 0.0149 - val_accuracy: 1.0000\n",
            "Epoch 12/50\n",
            "9/9 [==============================] - 88s 10s/step - loss: 0.0417 - accuracy: 1.0000 - val_loss: 0.0325 - val_accuracy: 1.0000\n",
            "Epoch 13/50\n",
            "9/9 [==============================] - 87s 10s/step - loss: 0.0187 - accuracy: 1.0000 - val_loss: 0.0319 - val_accuracy: 1.0000\n",
            "Epoch 14/50\n",
            "9/9 [==============================] - 88s 10s/step - loss: 0.0156 - accuracy: 1.0000 - val_loss: 0.0310 - val_accuracy: 1.0000\n",
            "Epoch 15/50\n",
            "9/9 [==============================] - 88s 10s/step - loss: 0.0037 - accuracy: 1.0000 - val_loss: 0.0246 - val_accuracy: 1.0000\n",
            "Epoch 16/50\n",
            "9/9 [==============================] - 86s 10s/step - loss: 0.0036 - accuracy: 1.0000 - val_loss: 0.0229 - val_accuracy: 1.0000\n",
            "Epoch 17/50\n",
            "9/9 [==============================] - 87s 10s/step - loss: 0.0025 - accuracy: 1.0000 - val_loss: 0.0255 - val_accuracy: 1.0000\n",
            "Epoch 18/50\n",
            "9/9 [==============================] - 87s 10s/step - loss: 0.0017 - accuracy: 1.0000 - val_loss: 0.0270 - val_accuracy: 1.0000\n",
            "Epoch 19/50\n",
            "9/9 [==============================] - 87s 10s/step - loss: 0.0019 - accuracy: 1.0000 - val_loss: 0.0235 - val_accuracy: 1.0000\n",
            "Epoch 20/50\n",
            "9/9 [==============================] - 87s 10s/step - loss: 8.8815e-04 - accuracy: 1.0000 - val_loss: 0.0205 - val_accuracy: 1.0000\n",
            "Epoch 21/50\n",
            "9/9 [==============================] - 86s 10s/step - loss: 0.0011 - accuracy: 1.0000 - val_loss: 0.0194 - val_accuracy: 1.0000\n"
          ]
        }
      ],
      "source": [
        "# early_stopping_callback = EarlyStopping(monitor = 'val_loss', patience = 10, mode = 'min', restore_best_weights = True)\n",
        "# early_stopping_callback = EarlyStopping(monitor = 'val_loss', patience = 4, mode = 'min', restore_best_weights = True)\n",
        "\n",
        "convlstm_model.compile(loss = 'categorical_crossentropy', optimizer = 'Adam', metrics = [\"accuracy\"])\n",
        "\n",
        "convlstm_model_training_history = convlstm_model.fit(x = features_train, y = labels_train, epochs = 50, batch_size = 4,\n",
        "                                                     shuffle = True, validation_split = 0.2, \n",
        "                                                     callbacks = [early_stopping_callback])"
      ]
    },
    {
      "cell_type": "code",
      "execution_count": null,
      "metadata": {
        "colab": {
          "base_uri": "https://localhost:8080/"
        },
        "id": "RGv70fo8hQUS",
        "outputId": "68cef743-4300-471b-eec6-442ea0d6fd9b"
      },
      "outputs": [
        {
          "name": "stdout",
          "output_type": "stream",
          "text": [
            "1/1 [==============================] - 9s 9s/step - loss: 0.0565 - accuracy: 1.0000\n"
          ]
        }
      ],
      "source": [
        "model_evaluation_history = convlstm_model.evaluate(features_test, labels_test)"
      ]
    },
    {
      "cell_type": "code",
      "execution_count": null,
      "metadata": {
        "id": "S710wMsuzH6o"
      },
      "outputs": [],
      "source": []
    },
    {
      "cell_type": "code",
      "execution_count": null,
      "metadata": {
        "id": "IDWx431Ryv0R"
      },
      "outputs": [],
      "source": [
        "import datetime as dt"
      ]
    },
    {
      "cell_type": "code",
      "execution_count": null,
      "metadata": {
        "id": "Ec9IO0mPhSyr"
      },
      "outputs": [],
      "source": [
        "\n",
        "model_evaluation_loss, model_evaluation_accuracy = model_evaluation_history\n",
        "\n",
        "date_time_format = '%Y_%m_%d__%H_%M_%S'\n",
        "current_date_time_dt = dt.datetime.now()\n",
        "current_date_time_string = dt.datetime.strftime(current_date_time_dt, date_time_format)\n",
        "\n",
        "model_file_name = f'convlstm_model___Date_Time_{current_date_time_string}___Loss_{model_evaluation_loss}___Accuracy_{model_evaluation_accuracy}.h5'\n",
        "\n",
        "convlstm_model.save(model_file_name)"
      ]
    },
    {
      "cell_type": "code",
      "execution_count": null,
      "metadata": {
        "id": "kOXcWnMvzmj8"
      },
      "outputs": [],
      "source": []
    }
  ],
  "metadata": {
    "colab": {
      "collapsed_sections": [],
      "provenance": []
    },
    "kernelspec": {
      "display_name": "Python 3.9.5 64-bit",
      "language": "python",
      "name": "python3"
    },
    "language_info": {
      "name": "python",
      "version": "3.9.5"
    },
    "vscode": {
      "interpreter": {
        "hash": "fd0f1e1cee4aecfd105a241d9d875f6bdd6f80b58f4496627652a232f2a809d9"
      }
    }
  },
  "nbformat": 4,
  "nbformat_minor": 0
}
